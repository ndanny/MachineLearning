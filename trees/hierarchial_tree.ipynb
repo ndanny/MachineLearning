{
 "cells": [
  {
   "cell_type": "code",
   "execution_count": 64,
   "metadata": {},
   "outputs": [],
   "source": [
    "import numpy as np\n",
    "import pandas as pd\n",
    "import matplotlib.pyplot as plt\n",
    "from scipy.spatial.distance import pdist, squareform\n",
    "from scipy.cluster.hierarchy import linkage, dendrogram"
   ]
  },
  {
   "cell_type": "code",
   "execution_count": 65,
   "metadata": {},
   "outputs": [
    {
     "name": "stdout",
     "output_type": "stream",
     "text": [
      "               F1        F2        F3\n",
      "Label 1  3.745401  9.507143  7.319939\n",
      "Label 2  5.986585  1.560186  1.559945\n",
      "Label 3  0.580836  8.661761  6.011150\n",
      "Label 4  7.080726  0.205845  9.699099\n",
      "Label 5  8.324426  2.123391  1.818250\n"
     ]
    }
   ],
   "source": [
    "# Generate random sample data in a 5 by 3 matrix\n",
    "np.random.seed(42)\n",
    "features = ['F1', 'F2', 'F3']\n",
    "labels = ['Label 1', 'Label 2', 'Label 3', 'Label 4', 'Label 5']\n",
    "X = np.random.random_sample([5, 3]) * 10\n",
    "df = pd.DataFrame(X, columns=features, index=labels)\n",
    "print(df)"
   ]
  },
  {
   "cell_type": "code",
   "execution_count": 66,
   "metadata": {},
   "outputs": [
    {
     "name": "stdout",
     "output_type": "stream",
     "text": [
      "           Label 1    Label 2    Label 3    Label 4    Label 5\n",
      "Label 1   0.000000  10.067500   3.527332  10.163608  10.283767\n",
      "Label 2  10.067500   0.000000   9.973350   8.323293   2.418558\n",
      "Label 3   3.527332   9.973350   0.000000  11.285037  10.967857\n",
      "Label 4  10.163608   8.323293  11.285037   0.000000   8.205581\n",
      "Label 5  10.283767   2.418558  10.967857   8.205581   0.000000\n"
     ]
    }
   ],
   "source": [
    "# Compute the distance matrix of all samples\n",
    "dist_matrix = pd.DataFrame(squareform(pdist(df, metric='euclidean')), columns=labels, index=labels)\n",
    "print(dist_matrix)"
   ]
  },
  {
   "cell_type": "code",
   "execution_count": 67,
   "metadata": {},
   "outputs": [
    {
     "name": "stdout",
     "output_type": "stream",
     "text": [
      "           Row Label 1  Row Label 2   Distance  Cluster Size\n",
      "Cluster 1          1.0          4.0   2.418558           2.0\n",
      "Cluster 2          0.0          2.0   3.527332           2.0\n",
      "Cluster 3          3.0          5.0   8.323293           3.0\n",
      "Cluster 4          6.0          7.0  11.285037           5.0\n"
     ]
    }
   ],
   "source": [
    "# Apply the complete linkage agglomeration to the clusters\n",
    "row_clusters = linkage(df.values, method='complete', metric='euclidean')\n",
    "columns = ['Row Label 1', 'Row Label 2', 'Distance', 'Cluster Size']\n",
    "rows = ['Cluster ' + str(i + 1) for i in range(4)]\n",
    "rc_table = pd.DataFrame(row_clusters, columns=columns, index=rows)\n",
    "print(rc_table)"
   ]
  },
  {
   "cell_type": "code",
   "execution_count": 68,
   "metadata": {},
   "outputs": [
    {
     "data": {
      "image/png": "[encoded data removed]",
      "text/plain": [
       "<matplotlib.figure.Figure at 0x1ef61941320>"
      ]
     },
     "metadata": {},
     "output_type": "display_data"
    }
   ],
   "source": [
    "# Visualize dendrogram of the hierarchical tree clustering\n",
    "row_dendro = dendrogram(row_clusters, labels=labels)\n",
    "plt.title('Dendrogram')\n",
    "plt.ylabel('Euclidean Distance')\n",
    "plt.show()"
   ]
  }
 ],
 "metadata": {
  "kernelspec": {
   "display_name": "Python 3",
   "language": "python",
   "name": "python3"
  },
  "language_info": {
   "codemirror_mode": {
    "name": "ipython",
    "version": 3
   },
   "file_extension": ".py",
   "mimetype": "text/x-python",
   "name": "python",
   "nbconvert_exporter": "python",
   "pygments_lexer": "ipython3",
   "version": "3.6.1"
  }
 },
 "nbformat": 4,
 "nbformat_minor": 2
}
